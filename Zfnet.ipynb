{
  "nbformat": 4,
  "nbformat_minor": 0,
  "metadata": {
    "colab": {
      "name": "Zfnet.ipynb",
      "provenance": [],
      "collapsed_sections": [],
      "authorship_tag": "ABX9TyPC6ZP5MHTjjxcJBshfv84j",
      "include_colab_link": true
    },
    "kernelspec": {
      "name": "python3",
      "display_name": "Python 3"
    },
    "language_info": {
      "name": "python"
    }
  },
  "cells": [
    {
      "cell_type": "markdown",
      "metadata": {
        "id": "view-in-github",
        "colab_type": "text"
      },
      "source": [
        "<a href=\"https://colab.research.google.com/github/oguzhankoc55/CNN/blob/main/Zfnet.ipynb\" target=\"_parent\"><img src=\"https://colab.research.google.com/assets/colab-badge.svg\" alt=\"Open In Colab\"/></a>"
      ]
    },
    {
      "cell_type": "code",
      "metadata": {
        "colab": {
          "base_uri": "https://localhost:8080/"
        },
        "id": "c9GBskEFMwl-",
        "outputId": "241b24f7-c794-4250-9a65-e161840a9626"
      },
      "source": [
        "import tensorflow as tf\n",
        "\n",
        "mnist = tf.keras.datasets.mnist\n",
        "\n",
        "(training_images, training_labels), (test_images, test_labels) = mnist.load_data()\n",
        "\n",
        "training_images = training_images[:1000]\n",
        "training_labels = training_labels[:1000]\n",
        "test_images = test_images[:100]\n",
        "test_labels = test_labels[:100]\n",
        "\n",
        "training_images = tf.map_fn(lambda i: tf.stack([i]*3, axis=-1), training_images).numpy()\n",
        "test_images = tf.map_fn(lambda i: tf.stack([i]*3, axis=-1), test_images).numpy()\n",
        "\n",
        "training_images = tf.image.resize(training_images, [224, 224]).numpy()\n",
        "test_images = tf.image.resize(test_images, [224, 224]).numpy()\n",
        "\n",
        "training_images = training_images.reshape(1000, 224, 224, 3)\n",
        "training_images = training_images / 255.0\n",
        "test_images = test_images.reshape(100, 224, 224, 3)\n",
        "test_images = test_images / 255.0\n",
        "\n",
        "training_labels = tf.keras.utils.to_categorical(training_labels, num_classes=10)\n",
        "test_labels = tf.keras.utils.to_categorical(test_labels, num_classes=10)\n",
        "\n",
        "num_len_train = int(0.8 * len(training_images))\n",
        "\n",
        "ttraining_images = training_images[:num_len_train]\n",
        "ttraining_labels = training_labels[:num_len_train]\n",
        "\n",
        "valid_images = training_images[num_len_train:]\n",
        "valid_labels = training_labels[num_len_train:]\n",
        "\n",
        "training_images = ttraining_images\n",
        "training_labels = ttraining_labels\n",
        "\n",
        "model = tf.keras.models.Sequential([\n",
        "                                    \n",
        "\t\ttf.keras.layers.Conv2D(96, (7, 7), strides=(2, 2), activation='relu',\n",
        "\t\t\tinput_shape=(224, 224, 3)),\n",
        "\t\ttf.keras.layers.MaxPooling2D(3, strides=2),\n",
        "    tf.keras.layers.Lambda(lambda x: tf.image.per_image_standardization(x)),\n",
        "\n",
        "\t\ttf.keras.layers.Conv2D(256, (5, 5), strides=(2, 2), activation='relu'),\n",
        "\t\ttf.keras.layers.MaxPooling2D(3, strides=2),\n",
        "    tf.keras.layers.Lambda(lambda x: tf.image.per_image_standardization(x)),\n",
        "\n",
        "\t\ttf.keras.layers.Conv2D(384, (3, 3), activation='relu'),\n",
        "\n",
        "\t\ttf.keras.layers.Conv2D(384, (3, 3), activation='relu'),\n",
        "\n",
        "\t\ttf.keras.layers.Conv2D(256, (3, 3), activation='relu'),\n",
        "\n",
        "\t\ttf.keras.layers.MaxPooling2D(3, strides=2),\n",
        "\n",
        "    tf.keras.layers.Flatten(),\n",
        "\n",
        "\t\ttf.keras.layers.Dense(4096),\n",
        "\n",
        "\t\ttf.keras.layers.Dense(4096),\n",
        "\n",
        "\t\ttf.keras.layers.Dense(10, activation='softmax')\n",
        "\t])\n",
        "\n",
        "\n",
        "model.compile(optimizer=tf.keras.optimizers.SGD(lr=0.01, momentum=0.9), \\\n",
        "              loss='categorical_crossentropy', \\\n",
        "              metrics=['accuracy', tf.keras.metrics.TopKCategoricalAccuracy(5)])\n",
        "\n",
        "reduce_lr = tf.keras.callbacks.ReduceLROnPlateau(monitor='val_loss', \\\n",
        "                                            \t\tfactor=0.1, patience=1, \\\n",
        "\t\t\t\t\t\t\t\t\t\t\t\t\t\t\t\t\t\t\t\t\t\t\t\tmin_lr=0.00001)\n",
        "\n",
        "model.fit(training_images, training_labels, batch_size=128, \\\n",
        "          validation_data=(valid_images, valid_labels), \\\n",
        "\t\t\t\t\tepochs=90, callbacks=[reduce_lr])"
      ],
      "execution_count": null,
      "outputs": [
        {
          "output_type": "stream",
          "name": "stderr",
          "text": [
            "/usr/local/lib/python3.7/dist-packages/keras/optimizer_v2/optimizer_v2.py:356: UserWarning: The `lr` argument is deprecated, use `learning_rate` instead.\n",
            "  \"The `lr` argument is deprecated, use `learning_rate` instead.\")\n"
          ]
        },
        {
          "output_type": "stream",
          "name": "stdout",
          "text": [
            "Epoch 1/90\n",
            "7/7 [==============================] - 81s 11s/step - loss: 2.5589 - accuracy: 0.2000 - top_k_categorical_accuracy: 0.5962 - val_loss: 2.0416 - val_accuracy: 0.2450 - val_top_k_categorical_accuracy: 0.7150\n",
            "Epoch 2/90\n",
            "7/7 [==============================] - 79s 11s/step - loss: 1.9338 - accuracy: 0.4238 - top_k_categorical_accuracy: 0.8400 - val_loss: 3.8091 - val_accuracy: 0.1600 - val_top_k_categorical_accuracy: 0.6450\n",
            "Epoch 3/90\n",
            "7/7 [==============================] - 79s 11s/step - loss: 2.7701 - accuracy: 0.2612 - top_k_categorical_accuracy: 0.6787 - val_loss: 1.8738 - val_accuracy: 0.4000 - val_top_k_categorical_accuracy: 0.8250\n",
            "Epoch 4/90\n",
            "7/7 [==============================] - 79s 11s/step - loss: 1.6183 - accuracy: 0.4737 - top_k_categorical_accuracy: 0.8487 - val_loss: 1.5105 - val_accuracy: 0.5050 - val_top_k_categorical_accuracy: 0.9050\n",
            "Epoch 5/90\n",
            "7/7 [==============================] - 79s 11s/step - loss: 1.1908 - accuracy: 0.6150 - top_k_categorical_accuracy: 0.9325 - val_loss: 1.1912 - val_accuracy: 0.6600 - val_top_k_categorical_accuracy: 0.9500\n",
            "Epoch 6/90\n",
            "7/7 [==============================] - 79s 11s/step - loss: 0.8856 - accuracy: 0.7300 - top_k_categorical_accuracy: 0.9588 - val_loss: 1.0484 - val_accuracy: 0.6750 - val_top_k_categorical_accuracy: 0.9500\n",
            "Epoch 7/90\n",
            "7/7 [==============================] - 79s 11s/step - loss: 0.7333 - accuracy: 0.7575 - top_k_categorical_accuracy: 0.9737 - val_loss: 0.8906 - val_accuracy: 0.7450 - val_top_k_categorical_accuracy: 0.9700\n",
            "Epoch 8/90\n",
            "7/7 [==============================] - 79s 11s/step - loss: 0.6041 - accuracy: 0.8150 - top_k_categorical_accuracy: 0.9875 - val_loss: 0.8136 - val_accuracy: 0.7800 - val_top_k_categorical_accuracy: 0.9850\n",
            "Epoch 9/90\n",
            "7/7 [==============================] - 79s 11s/step - loss: 0.5457 - accuracy: 0.8375 - top_k_categorical_accuracy: 0.9850 - val_loss: 0.8094 - val_accuracy: 0.7650 - val_top_k_categorical_accuracy: 0.9850\n",
            "Epoch 10/90\n",
            "7/7 [==============================] - 80s 11s/step - loss: 0.4881 - accuracy: 0.8400 - top_k_categorical_accuracy: 0.9912 - val_loss: 0.6258 - val_accuracy: 0.8200 - val_top_k_categorical_accuracy: 0.9850\n",
            "Epoch 11/90\n",
            "7/7 [==============================] - 79s 11s/step - loss: 0.4372 - accuracy: 0.8750 - top_k_categorical_accuracy: 0.9887 - val_loss: 0.6112 - val_accuracy: 0.8300 - val_top_k_categorical_accuracy: 0.9850\n",
            "Epoch 12/90\n",
            "7/7 [==============================] - 79s 11s/step - loss: 0.3872 - accuracy: 0.8888 - top_k_categorical_accuracy: 0.9912 - val_loss: 0.6993 - val_accuracy: 0.7850 - val_top_k_categorical_accuracy: 0.9850\n",
            "Epoch 13/90\n",
            "7/7 [==============================] - 79s 11s/step - loss: 0.4275 - accuracy: 0.8662 - top_k_categorical_accuracy: 0.9900 - val_loss: 0.7525 - val_accuracy: 0.7400 - val_top_k_categorical_accuracy: 0.9900\n",
            "Epoch 14/90\n",
            "1/7 [===>..........................] - ETA: 1:11 - loss: 0.3850 - accuracy: 0.8984 - top_k_categorical_accuracy: 0.9922"
          ]
        }
      ]
    }
  ]
}