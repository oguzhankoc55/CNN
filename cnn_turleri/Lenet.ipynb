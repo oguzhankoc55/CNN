{
  "nbformat": 4,
  "nbformat_minor": 0,
  "metadata": {
    "colab": {
      "name": "Lenet.ipynb",
      "provenance": [],
      "authorship_tag": "ABX9TyMTKbnASo+xLpf1pNYCShp9",
      "include_colab_link": true
    },
    "kernelspec": {
      "name": "python3",
      "display_name": "Python 3"
    },
    "language_info": {
      "name": "python"
    }
  },
  "cells": [
    {
      "cell_type": "markdown",
      "metadata": {
        "id": "view-in-github",
        "colab_type": "text"
      },
      "source": [
        "<a href=\"https://colab.research.google.com/github/oguzhankoc55/CNN/blob/main/Lenet.ipynb\" target=\"_parent\"><img src=\"https://colab.research.google.com/assets/colab-badge.svg\" alt=\"Open In Colab\"/></a>"
      ]
    },
    {
      "cell_type": "code",
      "metadata": {
        "colab": {
          "base_uri": "https://localhost:8080/",
          "height": 484
        },
        "id": "RH9Uqzg-8Pwm",
        "outputId": "98b18222-d516-456c-ae94-ca255ea58f0e"
      },
      "source": [
        "#lenet calısan\n",
        "\n",
        "# Keras\n",
        "from keras.models import Sequential\n",
        "from keras.layers import Conv2D, MaxPool2D, Dense, Flatten\n",
        "from keras.utils.np_utils import to_categorical\n",
        "from keras import optimizers\n",
        "\n",
        "from keras.datasets import cifar10\n",
        "\n",
        "# NumPy\n",
        "import numpy as np\n",
        "\n",
        "# Python Std Lib\n",
        "import os\n",
        "\n",
        "# User Lib\n",
        "#import lib.plot as plot\n",
        "\n",
        "# get the training and test data\n",
        "(input_train, output_train), (input_test, output_test) = cifar10.load_data()\n",
        "\n",
        "# creating the basic model\n",
        "model = Sequential()\n",
        "\n",
        "# 30 Conv Layer\n",
        "model.add(Conv2D(30, kernel_size=(3, 3), padding='valid', activation='relu', input_shape=(32, 32, 3)))\n",
        "# 15 Max Pool Layer\n",
        "model.add(MaxPool2D(pool_size=(2, 2), padding='valid'))\n",
        "# 13 Conv Layer\n",
        "model.add(Conv2D(13, kernel_size=(3,3), padding='valid', activation='relu'))\n",
        "# 6 Max Pool Layer\n",
        "model.add(MaxPool2D(pool_size=(2, 2), padding='valid'))\n",
        "# Flatten the Layer for transitioning to the Fully Connected Layers\n",
        "model.add(Flatten())\n",
        "# 120 Fully Connected Layer\n",
        "model.add(Dense(120, activation='relu'))\n",
        "# 84 Fully Connected Layer\n",
        "model.add(Dense(86, activation='relu'))\n",
        "# 10 Output\n",
        "model.add(Dense(10, activation='softmax'))\n",
        "\n",
        "# compile the model\n",
        "model.compile(optimizer='adam',\n",
        "              loss='categorical_crossentropy',\n",
        "              metrics=['accuracy'])\n",
        "# train the model\n",
        "history = model.fit(input_train/255, to_categorical(output_train), epochs=10, batch_size=32)\n",
        "\n",
        "# test\n",
        "score = model.evaluate(input_test/255, to_categorical(output_test), batch_size=32)\n",
        "\n",
        "# print test set results\n",
        "print(\"Testset Loss: %f\" % score[0])\n",
        "print(\"Testset Accuracy: %f\" % score[1])\n",
        "\"\"\"\n",
        "# Plot the history\n",
        "os.makedirs(os.path.join(os.path.dirname(os.path.realpath(__file__)), \"plots\"), exist_ok=True)\n",
        "plot.plot_training_loss(history, show=False, save_file=\"plots/cifar10_loss.png\")\n",
        "plot.plot_training_accuracy(history, show=False, save_file=\"plots/cifar10_accuracy.png\")\n",
        "\"\"\""
      ],
      "execution_count": 4,
      "outputs": [
        {
          "output_type": "stream",
          "name": "stdout",
          "text": [
            "Downloading data from https://www.cs.toronto.edu/~kriz/cifar-10-python.tar.gz\n",
            "170500096/170498071 [==============================] - 2s 0us/step\n",
            "170508288/170498071 [==============================] - 2s 0us/step\n",
            "Epoch 1/10\n",
            "1563/1563 [==============================] - 51s 32ms/step - loss: 1.5652 - accuracy: 0.4275\n",
            "Epoch 2/10\n",
            "1563/1563 [==============================] - 50s 32ms/step - loss: 1.2587 - accuracy: 0.5539\n",
            "Epoch 3/10\n",
            "1563/1563 [==============================] - 51s 33ms/step - loss: 1.1458 - accuracy: 0.5938\n",
            "Epoch 4/10\n",
            "1563/1563 [==============================] - 52s 33ms/step - loss: 1.0590 - accuracy: 0.6263\n",
            "Epoch 5/10\n",
            "1563/1563 [==============================] - 52s 33ms/step - loss: 0.9854 - accuracy: 0.6527\n",
            "Epoch 6/10\n",
            "1563/1563 [==============================] - 52s 33ms/step - loss: 0.9287 - accuracy: 0.6737\n",
            "Epoch 7/10\n",
            "1563/1563 [==============================] - 56s 36ms/step - loss: 0.8812 - accuracy: 0.6915\n",
            "Epoch 8/10\n",
            "1563/1563 [==============================] - 53s 34ms/step - loss: 0.8392 - accuracy: 0.7028\n",
            "Epoch 9/10\n",
            "1563/1563 [==============================] - 53s 34ms/step - loss: 0.7958 - accuracy: 0.7193\n",
            "Epoch 10/10\n",
            "1563/1563 [==============================] - 52s 33ms/step - loss: 0.7614 - accuracy: 0.7315\n",
            "313/313 [==============================] - 3s 11ms/step - loss: 0.9862 - accuracy: 0.6591\n",
            "Testset Loss: 0.986168\n",
            "Testset Accuracy: 0.659100\n"
          ]
        },
        {
          "output_type": "execute_result",
          "data": {
            "application/vnd.google.colaboratory.intrinsic+json": {
              "type": "string"
            },
            "text/plain": [
              "'\\n# Plot the history\\nos.makedirs(os.path.join(os.path.dirname(os.path.realpath(__file__)), \"plots\"), exist_ok=True)\\nplot.plot_training_loss(history, show=False, save_file=\"plots/cifar10_loss.png\")\\nplot.plot_training_accuracy(history, show=False, save_file=\"plots/cifar10_accuracy.png\")\\n'"
            ]
          },
          "metadata": {},
          "execution_count": 4
        }
      ]
    }
  ]
}