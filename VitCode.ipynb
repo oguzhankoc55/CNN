{
  "nbformat": 4,
  "nbformat_minor": 0,
  "metadata": {
    "colab": {
      "name": "VitCode",
      "provenance": [],
      "collapsed_sections": [],
      "include_colab_link": true
    },
    "kernelspec": {
      "name": "python3",
      "display_name": "Python 3"
    },
    "language_info": {
      "name": "python"
    },
    "accelerator": "GPU"
  },
  "cells": [
    {
      "cell_type": "markdown",
      "metadata": {
        "id": "view-in-github",
        "colab_type": "text"
      },
      "source": [
        "<a href=\"https://colab.research.google.com/github/oguzhankoc55/CNN/blob/main/VitCode.ipynb\" target=\"_parent\"><img src=\"https://colab.research.google.com/assets/colab-badge.svg\" alt=\"Open In Colab\"/></a>"
      ]
    },
    {
      "cell_type": "code",
      "metadata": {
        "id": "7egydiwBKcGV",
        "colab": {
          "base_uri": "https://localhost:8080/"
        },
        "outputId": "6ac8a135-ae44-4d2b-e833-43e49e35e14b"
      },
      "source": [
        "pip install -U tensorflow-addons"
      ],
      "execution_count": 1,
      "outputs": [
        {
          "output_type": "stream",
          "name": "stdout",
          "text": [
            "Collecting tensorflow-addons\n",
            "  Downloading tensorflow_addons-0.14.0-cp37-cp37m-manylinux_2_12_x86_64.manylinux2010_x86_64.whl (1.1 MB)\n",
            "\u001b[?25l\r\u001b[K     |▎                               | 10 kB 22.2 MB/s eta 0:00:01\r\u001b[K     |▋                               | 20 kB 22.0 MB/s eta 0:00:01\r\u001b[K     |▉                               | 30 kB 12.1 MB/s eta 0:00:01\r\u001b[K     |█▏                              | 40 kB 9.5 MB/s eta 0:00:01\r\u001b[K     |█▌                              | 51 kB 5.3 MB/s eta 0:00:01\r\u001b[K     |█▊                              | 61 kB 5.8 MB/s eta 0:00:01\r\u001b[K     |██                              | 71 kB 5.6 MB/s eta 0:00:01\r\u001b[K     |██▍                             | 81 kB 6.2 MB/s eta 0:00:01\r\u001b[K     |██▋                             | 92 kB 4.8 MB/s eta 0:00:01\r\u001b[K     |███                             | 102 kB 5.1 MB/s eta 0:00:01\r\u001b[K     |███▎                            | 112 kB 5.1 MB/s eta 0:00:01\r\u001b[K     |███▌                            | 122 kB 5.1 MB/s eta 0:00:01\r\u001b[K     |███▉                            | 133 kB 5.1 MB/s eta 0:00:01\r\u001b[K     |████▏                           | 143 kB 5.1 MB/s eta 0:00:01\r\u001b[K     |████▍                           | 153 kB 5.1 MB/s eta 0:00:01\r\u001b[K     |████▊                           | 163 kB 5.1 MB/s eta 0:00:01\r\u001b[K     |█████                           | 174 kB 5.1 MB/s eta 0:00:01\r\u001b[K     |█████▎                          | 184 kB 5.1 MB/s eta 0:00:01\r\u001b[K     |█████▋                          | 194 kB 5.1 MB/s eta 0:00:01\r\u001b[K     |██████                          | 204 kB 5.1 MB/s eta 0:00:01\r\u001b[K     |██████▏                         | 215 kB 5.1 MB/s eta 0:00:01\r\u001b[K     |██████▌                         | 225 kB 5.1 MB/s eta 0:00:01\r\u001b[K     |██████▉                         | 235 kB 5.1 MB/s eta 0:00:01\r\u001b[K     |███████                         | 245 kB 5.1 MB/s eta 0:00:01\r\u001b[K     |███████▍                        | 256 kB 5.1 MB/s eta 0:00:01\r\u001b[K     |███████▊                        | 266 kB 5.1 MB/s eta 0:00:01\r\u001b[K     |████████                        | 276 kB 5.1 MB/s eta 0:00:01\r\u001b[K     |████████▎                       | 286 kB 5.1 MB/s eta 0:00:01\r\u001b[K     |████████▋                       | 296 kB 5.1 MB/s eta 0:00:01\r\u001b[K     |████████▉                       | 307 kB 5.1 MB/s eta 0:00:01\r\u001b[K     |█████████▏                      | 317 kB 5.1 MB/s eta 0:00:01\r\u001b[K     |█████████▌                      | 327 kB 5.1 MB/s eta 0:00:01\r\u001b[K     |█████████▊                      | 337 kB 5.1 MB/s eta 0:00:01\r\u001b[K     |██████████                      | 348 kB 5.1 MB/s eta 0:00:01\r\u001b[K     |██████████▍                     | 358 kB 5.1 MB/s eta 0:00:01\r\u001b[K     |██████████▋                     | 368 kB 5.1 MB/s eta 0:00:01\r\u001b[K     |███████████                     | 378 kB 5.1 MB/s eta 0:00:01\r\u001b[K     |███████████▎                    | 389 kB 5.1 MB/s eta 0:00:01\r\u001b[K     |███████████▌                    | 399 kB 5.1 MB/s eta 0:00:01\r\u001b[K     |███████████▉                    | 409 kB 5.1 MB/s eta 0:00:01\r\u001b[K     |████████████▏                   | 419 kB 5.1 MB/s eta 0:00:01\r\u001b[K     |████████████▍                   | 430 kB 5.1 MB/s eta 0:00:01\r\u001b[K     |████████████▊                   | 440 kB 5.1 MB/s eta 0:00:01\r\u001b[K     |█████████████                   | 450 kB 5.1 MB/s eta 0:00:01\r\u001b[K     |█████████████▎                  | 460 kB 5.1 MB/s eta 0:00:01\r\u001b[K     |█████████████▋                  | 471 kB 5.1 MB/s eta 0:00:01\r\u001b[K     |██████████████                  | 481 kB 5.1 MB/s eta 0:00:01\r\u001b[K     |██████████████▏                 | 491 kB 5.1 MB/s eta 0:00:01\r\u001b[K     |██████████████▌                 | 501 kB 5.1 MB/s eta 0:00:01\r\u001b[K     |██████████████▉                 | 512 kB 5.1 MB/s eta 0:00:01\r\u001b[K     |███████████████                 | 522 kB 5.1 MB/s eta 0:00:01\r\u001b[K     |███████████████▍                | 532 kB 5.1 MB/s eta 0:00:01\r\u001b[K     |███████████████▊                | 542 kB 5.1 MB/s eta 0:00:01\r\u001b[K     |████████████████                | 552 kB 5.1 MB/s eta 0:00:01\r\u001b[K     |████████████████▎               | 563 kB 5.1 MB/s eta 0:00:01\r\u001b[K     |████████████████▋               | 573 kB 5.1 MB/s eta 0:00:01\r\u001b[K     |████████████████▉               | 583 kB 5.1 MB/s eta 0:00:01\r\u001b[K     |█████████████████▏              | 593 kB 5.1 MB/s eta 0:00:01\r\u001b[K     |█████████████████▌              | 604 kB 5.1 MB/s eta 0:00:01\r\u001b[K     |█████████████████▊              | 614 kB 5.1 MB/s eta 0:00:01\r\u001b[K     |██████████████████              | 624 kB 5.1 MB/s eta 0:00:01\r\u001b[K     |██████████████████▍             | 634 kB 5.1 MB/s eta 0:00:01\r\u001b[K     |██████████████████▋             | 645 kB 5.1 MB/s eta 0:00:01\r\u001b[K     |███████████████████             | 655 kB 5.1 MB/s eta 0:00:01\r\u001b[K     |███████████████████▎            | 665 kB 5.1 MB/s eta 0:00:01\r\u001b[K     |███████████████████▌            | 675 kB 5.1 MB/s eta 0:00:01\r\u001b[K     |███████████████████▉            | 686 kB 5.1 MB/s eta 0:00:01\r\u001b[K     |████████████████████▏           | 696 kB 5.1 MB/s eta 0:00:01\r\u001b[K     |████████████████████▍           | 706 kB 5.1 MB/s eta 0:00:01\r\u001b[K     |████████████████████▊           | 716 kB 5.1 MB/s eta 0:00:01\r\u001b[K     |█████████████████████           | 727 kB 5.1 MB/s eta 0:00:01\r\u001b[K     |█████████████████████▎          | 737 kB 5.1 MB/s eta 0:00:01\r\u001b[K     |█████████████████████▋          | 747 kB 5.1 MB/s eta 0:00:01\r\u001b[K     |██████████████████████          | 757 kB 5.1 MB/s eta 0:00:01\r\u001b[K     |██████████████████████▏         | 768 kB 5.1 MB/s eta 0:00:01\r\u001b[K     |██████████████████████▌         | 778 kB 5.1 MB/s eta 0:00:01\r\u001b[K     |██████████████████████▉         | 788 kB 5.1 MB/s eta 0:00:01\r\u001b[K     |███████████████████████         | 798 kB 5.1 MB/s eta 0:00:01\r\u001b[K     |███████████████████████▍        | 808 kB 5.1 MB/s eta 0:00:01\r\u001b[K     |███████████████████████▊        | 819 kB 5.1 MB/s eta 0:00:01\r\u001b[K     |████████████████████████        | 829 kB 5.1 MB/s eta 0:00:01\r\u001b[K     |████████████████████████▎       | 839 kB 5.1 MB/s eta 0:00:01\r\u001b[K     |████████████████████████▋       | 849 kB 5.1 MB/s eta 0:00:01\r\u001b[K     |████████████████████████▉       | 860 kB 5.1 MB/s eta 0:00:01\r\u001b[K     |█████████████████████████▏      | 870 kB 5.1 MB/s eta 0:00:01\r\u001b[K     |█████████████████████████▍      | 880 kB 5.1 MB/s eta 0:00:01\r\u001b[K     |█████████████████████████▊      | 890 kB 5.1 MB/s eta 0:00:01\r\u001b[K     |██████████████████████████      | 901 kB 5.1 MB/s eta 0:00:01\r\u001b[K     |██████████████████████████▎     | 911 kB 5.1 MB/s eta 0:00:01\r\u001b[K     |██████████████████████████▋     | 921 kB 5.1 MB/s eta 0:00:01\r\u001b[K     |███████████████████████████     | 931 kB 5.1 MB/s eta 0:00:01\r\u001b[K     |███████████████████████████▏    | 942 kB 5.1 MB/s eta 0:00:01\r\u001b[K     |███████████████████████████▌    | 952 kB 5.1 MB/s eta 0:00:01\r\u001b[K     |███████████████████████████▉    | 962 kB 5.1 MB/s eta 0:00:01\r\u001b[K     |████████████████████████████    | 972 kB 5.1 MB/s eta 0:00:01\r\u001b[K     |████████████████████████████▍   | 983 kB 5.1 MB/s eta 0:00:01\r\u001b[K     |████████████████████████████▊   | 993 kB 5.1 MB/s eta 0:00:01\r\u001b[K     |█████████████████████████████   | 1.0 MB 5.1 MB/s eta 0:00:01\r\u001b[K     |█████████████████████████████▎  | 1.0 MB 5.1 MB/s eta 0:00:01\r\u001b[K     |█████████████████████████████▋  | 1.0 MB 5.1 MB/s eta 0:00:01\r\u001b[K     |█████████████████████████████▉  | 1.0 MB 5.1 MB/s eta 0:00:01\r\u001b[K     |██████████████████████████████▏ | 1.0 MB 5.1 MB/s eta 0:00:01\r\u001b[K     |██████████████████████████████▌ | 1.1 MB 5.1 MB/s eta 0:00:01\r\u001b[K     |██████████████████████████████▊ | 1.1 MB 5.1 MB/s eta 0:00:01\r\u001b[K     |███████████████████████████████ | 1.1 MB 5.1 MB/s eta 0:00:01\r\u001b[K     |███████████████████████████████▍| 1.1 MB 5.1 MB/s eta 0:00:01\r\u001b[K     |███████████████████████████████▋| 1.1 MB 5.1 MB/s eta 0:00:01\r\u001b[K     |████████████████████████████████| 1.1 MB 5.1 MB/s eta 0:00:01\r\u001b[K     |████████████████████████████████| 1.1 MB 5.1 MB/s \n",
            "\u001b[?25hRequirement already satisfied: typeguard>=2.7 in /usr/local/lib/python3.7/dist-packages (from tensorflow-addons) (2.7.1)\n",
            "Installing collected packages: tensorflow-addons\n",
            "Successfully installed tensorflow-addons-0.14.0\n"
          ]
        }
      ]
    },
    {
      "cell_type": "code",
      "metadata": {
        "id": "ovrezPuJLTj-"
      },
      "source": [
        "import numpy as np\n",
        "import tensorflow as tf\n",
        "from tensorflow import keras\n",
        "from tensorflow.keras import layers\n",
        "import tensorflow_addons as tfa"
      ],
      "execution_count": 2,
      "outputs": []
    },
    {
      "cell_type": "code",
      "metadata": {
        "id": "7Bk_Yf3bIxrA",
        "colab": {
          "base_uri": "https://localhost:8080/"
        },
        "outputId": "eacfcc85-214a-4922-80e5-59e0b7d697fc"
      },
      "source": [
        "num_classes = 100\n",
        "input_shape = (32, 32, 3)\n",
        "\n",
        "(x_train, y_train), (x_test, y_test) = keras.datasets.cifar100.load_data()\n",
        "\n",
        "print(f\"x_train shape: {x_train.shape} - y_train shape: {y_train.shape}\")\n",
        "print(f\"x_test shape: {x_test.shape} - y_test shape: {y_test.shape}\")\n"
      ],
      "execution_count": 3,
      "outputs": [
        {
          "output_type": "stream",
          "name": "stdout",
          "text": [
            "Downloading data from https://www.cs.toronto.edu/~kriz/cifar-100-python.tar.gz\n",
            "169009152/169001437 [==============================] - 2s 0us/step\n",
            "169017344/169001437 [==============================] - 2s 0us/step\n",
            "x_train shape: (50000, 32, 32, 3) - y_train shape: (50000, 1)\n",
            "x_test shape: (10000, 32, 32, 3) - y_test shape: (10000, 1)\n"
          ]
        }
      ]
    },
    {
      "cell_type": "code",
      "metadata": {
        "id": "ttSeU89hIxrC"
      },
      "source": [
        "learning_rate = 0.001\n",
        "weight_decay = 0.0001\n",
        "batch_size = 256\n",
        "num_epochs = 100\n",
        "image_size = 72  # We'll resize input images to this size\n",
        "patch_size = 6  # Size of the patches to be extract from the input images\n",
        "num_patches = (image_size // patch_size) ** 2\n",
        "projection_dim = 64\n",
        "num_heads = 4\n",
        "transformer_units = [\n",
        "    projection_dim * 2,\n",
        "    projection_dim,\n",
        "]  # Size of the transformer layers\n",
        "transformer_layers = 8\n",
        "mlp_head_units = [2048, 1024]  # Size of the dense layers of the final classifier\n"
      ],
      "execution_count": 4,
      "outputs": []
    },
    {
      "cell_type": "code",
      "metadata": {
        "id": "6L0DkgI1IxrD"
      },
      "source": [
        "data_augmentation = keras.Sequential(\n",
        "    [\n",
        "        layers.Normalization(),\n",
        "        layers.Resizing(image_size, image_size),\n",
        "        layers.RandomFlip(\"horizontal\"),\n",
        "        layers.RandomRotation(factor=0.02),\n",
        "        layers.RandomZoom(\n",
        "            height_factor=0.2, width_factor=0.2\n",
        "        ),\n",
        "    ],\n",
        "    name=\"data_augmentation\",\n",
        ")\n",
        "# Compute the mean and the variance of the training data for normalization.\n",
        "data_augmentation.layers[0].adapt(x_train)\n"
      ],
      "execution_count": 5,
      "outputs": []
    },
    {
      "cell_type": "code",
      "metadata": {
        "id": "vHfG9GwUIxrE"
      },
      "source": [
        "\n",
        "def mlp(x, hidden_units, dropout_rate):\n",
        "    for units in hidden_units:\n",
        "        x = layers.Dense(units, activation=tf.nn.gelu)(x)\n",
        "        x = layers.Dropout(dropout_rate)(x)\n",
        "    return x\n"
      ],
      "execution_count": 6,
      "outputs": []
    },
    {
      "cell_type": "code",
      "metadata": {
        "id": "IQHIGckTIxrF"
      },
      "source": [
        "\n",
        "class Patches(layers.Layer):\n",
        "    def __init__(self, patch_size):\n",
        "        super(Patches, self).__init__()\n",
        "        self.patch_size = patch_size\n",
        "\n",
        "    def call(self, images):\n",
        "        batch_size = tf.shape(images)[0]\n",
        "        patches = tf.image.extract_patches(\n",
        "            images=images,\n",
        "            sizes=[1, self.patch_size, self.patch_size, 1],\n",
        "            strides=[1, self.patch_size, self.patch_size, 1],\n",
        "            rates=[1, 1, 1, 1],\n",
        "            padding=\"VALID\",\n",
        "        )\n",
        "        patch_dims = patches.shape[-1]\n",
        "        patches = tf.reshape(patches, [batch_size, -1, patch_dims])\n",
        "        return patches\n"
      ],
      "execution_count": 7,
      "outputs": []
    },
    {
      "cell_type": "code",
      "metadata": {
        "id": "WzQo6NRLIxrF",
        "colab": {
          "base_uri": "https://localhost:8080/",
          "height": 550
        },
        "outputId": "9bbee739-08c6-45d2-ca69-2effae00eca4"
      },
      "source": [
        "import matplotlib.pyplot as plt\n",
        "\n",
        "plt.figure(figsize=(4, 4))\n",
        "image = x_train[np.random.choice(range(x_train.shape[0]))]\n",
        "plt.imshow(image.astype(\"uint8\"))\n",
        "plt.axis(\"off\")\n",
        "\n",
        "resized_image = tf.image.resize(\n",
        "    tf.convert_to_tensor([image]), size=(image_size, image_size)\n",
        ")\n",
        "patches = Patches(patch_size)(resized_image)\n",
        "print(f\"Image size: {image_size} X {image_size}\")\n",
        "print(f\"Patch size: {patch_size} X {patch_size}\")\n",
        "print(f\"Patches per image: {patches.shape[1]}\")\n",
        "print(f\"Elements per patch: {patches.shape[-1]}\")\n",
        "\n",
        "n = int(np.sqrt(patches.shape[1]))\n",
        "plt.figure(figsize=(4, 4))\n",
        "for i, patch in enumerate(patches[0]):\n",
        "    ax = plt.subplot(n, n, i + 1)\n",
        "    patch_img = tf.reshape(patch, (patch_size, patch_size, 3))\n",
        "    plt.imshow(patch_img.numpy().astype(\"uint8\"))\n",
        "    plt.axis(\"off\")"
      ],
      "execution_count": 8,
      "outputs": [
        {
          "output_type": "stream",
          "name": "stdout",
          "text": [
            "Image size: 72 X 72\n",
            "Patch size: 6 X 6\n",
            "Patches per image: 144\n",
            "Elements per patch: 108\n"
          ]
        },
        {
          "output_type": "display_data",
          "data": {
            "image/png": "[encoded data removed]",
            "text/plain": [
              "<Figure size 288x288 with 1 Axes>"
            ]
          },
          "metadata": {
            "needs_background": "light"
          }
        },
        {
          "output_type": "display_data",
          "data": {
            "image/png": "[encoded data removed]",
            "text/plain": [
              "<Figure size 288x288 with 144 Axes>"
            ]
          },
          "metadata": {
            "needs_background": "light"
          }
        }
      ]
    },
    {
      "cell_type": "code",
      "metadata": {
        "id": "TgU5em9QIxrH"
      },
      "source": [
        "\n",
        "class PatchEncoder(layers.Layer):\n",
        "    def __init__(self, num_patches, projection_dim):\n",
        "        super(PatchEncoder, self).__init__()\n",
        "        self.num_patches = num_patches\n",
        "        self.projection = layers.Dense(units=projection_dim)\n",
        "        self.position_embedding = layers.Embedding(\n",
        "            input_dim=num_patches, output_dim=projection_dim\n",
        "        )\n",
        "\n",
        "    def call(self, patch):\n",
        "        positions = tf.range(start=0, limit=self.num_patches, delta=1)\n",
        "        encoded = self.projection(patch) + self.position_embedding(positions)\n",
        "        return encoded\n"
      ],
      "execution_count": 9,
      "outputs": []
    },
    {
      "cell_type": "code",
      "metadata": {
        "id": "WSTfAt4jIxrI"
      },
      "source": [
        "\n",
        "def create_vit_classifier():\n",
        "    inputs = layers.Input(shape=input_shape)\n",
        "    # Augment data.\n",
        "    augmented = data_augmentation(inputs)\n",
        "    # Create patches.\n",
        "    patches = Patches(patch_size)(augmented)\n",
        "    # Encode patches.\n",
        "    encoded_patches = PatchEncoder(num_patches, projection_dim)(patches)\n",
        "\n",
        "    # Create multiple layers of the Transformer block.\n",
        "    for _ in range(transformer_layers):\n",
        "        # Layer normalization 1.\n",
        "        x1 = layers.LayerNormalization(epsilon=1e-6)(encoded_patches)\n",
        "        # Create a multi-head attention layer.\n",
        "        attention_output = layers.MultiHeadAttention(\n",
        "            num_heads=num_heads, key_dim=projection_dim, dropout=0.1\n",
        "        )(x1, x1)\n",
        "        # Skip connection 1.\n",
        "        x2 = layers.Add()([attention_output, encoded_patches])\n",
        "        # Layer normalization 2.\n",
        "        x3 = layers.LayerNormalization(epsilon=1e-6)(x2)\n",
        "        # MLP.\n",
        "        x3 = mlp(x3, hidden_units=transformer_units, dropout_rate=0.1)\n",
        "        # Skip connection 2.\n",
        "        encoded_patches = layers.Add()([x3, x2])\n",
        "\n",
        "    # Create a [batch_size, projection_dim] tensor.\n",
        "    representation = layers.LayerNormalization(epsilon=1e-6)(encoded_patches)\n",
        "    representation = layers.Flatten()(representation)\n",
        "    representation = layers.Dropout(0.5)(representation)\n",
        "    # Add MLP.\n",
        "    features = mlp(representation, hidden_units=mlp_head_units, dropout_rate=0.5)\n",
        "    # Classify outputs.\n",
        "    logits = layers.Dense(num_classes)(features)\n",
        "    # Create the Keras model.\n",
        "    model = keras.Model(inputs=inputs, outputs=logits)\n",
        "    return model\n"
      ],
      "execution_count": 10,
      "outputs": []
    },
    {
      "cell_type": "code",
      "metadata": {
        "id": "g_DqkAd5IxrJ",
        "colab": {
          "base_uri": "https://localhost:8080/"
        },
        "outputId": "17f8472c-b57e-4b6b-dc9e-49b757b4734e"
      },
      "source": [
        "\n",
        "def run_experiment(model):\n",
        "    optimizer = tfa.optimizers.AdamW(\n",
        "        learning_rate=learning_rate, weight_decay=weight_decay\n",
        "    )\n",
        "\n",
        "    model.compile(\n",
        "        optimizer=optimizer,\n",
        "        loss=keras.losses.SparseCategoricalCrossentropy(from_logits=True),\n",
        "        metrics=[\n",
        "            keras.metrics.SparseCategoricalAccuracy(name=\"accuracy\"),\n",
        "            keras.metrics.SparseTopKCategoricalAccuracy(5, name=\"top-5-accuracy\"),\n",
        "        ],\n",
        "    )\n",
        "\n",
        "    checkpoint_filepath = \"/tmp/checkpoint\"\n",
        "    checkpoint_callback = keras.callbacks.ModelCheckpoint(\n",
        "        checkpoint_filepath,\n",
        "        monitor=\"val_accuracy\",\n",
        "        save_best_only=True,\n",
        "        save_weights_only=True,\n",
        "    )\n",
        "\n",
        "    history = model.fit(\n",
        "        x=x_train,\n",
        "        y=y_train,\n",
        "        batch_size=batch_size,\n",
        "        epochs=num_epochs,\n",
        "        validation_split=0.1,\n",
        "        callbacks=[checkpoint_callback],\n",
        "    )\n",
        "\n",
        "    model.load_weights(checkpoint_filepath)\n",
        "    _, accuracy, top_5_accuracy = model.evaluate(x_test, y_test)\n",
        "    print(f\"Test accuracy: {round(accuracy * 100, 2)}%\")\n",
        "    print(f\"Test top 5 accuracy: {round(top_5_accuracy * 100, 2)}%\")\n",
        "\n",
        "    return history\n",
        "\n",
        "\n",
        "vit_classifier = create_vit_classifier()\n",
        "history = run_experiment(vit_classifier)\n"
      ],
      "execution_count": 11,
      "outputs": [
        {
          "output_type": "stream",
          "name": "stdout",
          "text": [
            "Epoch 1/100\n",
            "176/176 [==============================] - 163s 839ms/step - loss: 4.4702 - accuracy: 0.0456 - top-5-accuracy: 0.1621 - val_loss: 3.9169 - val_accuracy: 0.1040 - val_top-5-accuracy: 0.3076\n",
            "Epoch 2/100\n",
            "176/176 [==============================] - 146s 831ms/step - loss: 3.9368 - accuracy: 0.0956 - top-5-accuracy: 0.2888 - val_loss: 3.5852 - val_accuracy: 0.1560 - val_top-5-accuracy: 0.4014\n",
            "Epoch 3/100\n",
            "176/176 [==============================] - 146s 831ms/step - loss: 3.6836 - accuracy: 0.1331 - top-5-accuracy: 0.3695 - val_loss: 3.3515 - val_accuracy: 0.1944 - val_top-5-accuracy: 0.4656\n",
            "Epoch 4/100\n",
            "176/176 [==============================] - 146s 831ms/step - loss: 3.5042 - accuracy: 0.1640 - top-5-accuracy: 0.4233 - val_loss: 3.2324 - val_accuracy: 0.2206 - val_top-5-accuracy: 0.4962\n",
            "Epoch 5/100\n",
            "176/176 [==============================] - 146s 832ms/step - loss: 3.3756 - accuracy: 0.1860 - top-5-accuracy: 0.4591 - val_loss: 3.0842 - val_accuracy: 0.2470 - val_top-5-accuracy: 0.5506\n",
            "Epoch 6/100\n",
            "176/176 [==============================] - 146s 832ms/step - loss: 3.2269 - accuracy: 0.2169 - top-5-accuracy: 0.4978 - val_loss: 2.9426 - val_accuracy: 0.2702 - val_top-5-accuracy: 0.5746\n",
            "Epoch 7/100\n",
            "176/176 [==============================] - 146s 832ms/step - loss: 3.1093 - accuracy: 0.2369 - top-5-accuracy: 0.5303 - val_loss: 2.8536 - val_accuracy: 0.2904 - val_top-5-accuracy: 0.5926\n",
            "Epoch 8/100\n",
            "176/176 [==============================] - 146s 832ms/step - loss: 2.9754 - accuracy: 0.2616 - top-5-accuracy: 0.5603 - val_loss: 2.6657 - val_accuracy: 0.3312 - val_top-5-accuracy: 0.6372\n",
            "Epoch 9/100\n",
            "176/176 [==============================] - 146s 831ms/step - loss: 2.8705 - accuracy: 0.2836 - top-5-accuracy: 0.5863 - val_loss: 2.6323 - val_accuracy: 0.3310 - val_top-5-accuracy: 0.6350\n",
            "Epoch 10/100\n",
            "176/176 [==============================] - 146s 831ms/step - loss: 2.7663 - accuracy: 0.3026 - top-5-accuracy: 0.6134 - val_loss: 2.5193 - val_accuracy: 0.3608 - val_top-5-accuracy: 0.6670\n",
            "Epoch 11/100\n",
            "176/176 [==============================] - 146s 832ms/step - loss: 2.6841 - accuracy: 0.3199 - top-5-accuracy: 0.6318 - val_loss: 2.4559 - val_accuracy: 0.3704 - val_top-5-accuracy: 0.6804\n",
            "Epoch 12/100\n",
            "176/176 [==============================] - 146s 832ms/step - loss: 2.5826 - accuracy: 0.3418 - top-5-accuracy: 0.6522 - val_loss: 2.4051 - val_accuracy: 0.3926 - val_top-5-accuracy: 0.6862\n",
            "Epoch 13/100\n",
            "176/176 [==============================] - 146s 832ms/step - loss: 2.5150 - accuracy: 0.3553 - top-5-accuracy: 0.6705 - val_loss: 2.3490 - val_accuracy: 0.3954 - val_top-5-accuracy: 0.6988\n",
            "Epoch 14/100\n",
            "176/176 [==============================] - 146s 831ms/step - loss: 2.4279 - accuracy: 0.3740 - top-5-accuracy: 0.6875 - val_loss: 2.3111 - val_accuracy: 0.4114 - val_top-5-accuracy: 0.7026\n",
            "Epoch 15/100\n",
            "176/176 [==============================] - 146s 831ms/step - loss: 2.3590 - accuracy: 0.3834 - top-5-accuracy: 0.7034 - val_loss: 2.2297 - val_accuracy: 0.4236 - val_top-5-accuracy: 0.7252\n",
            "Epoch 16/100\n",
            "176/176 [==============================] - 146s 831ms/step - loss: 2.2796 - accuracy: 0.4042 - top-5-accuracy: 0.7167 - val_loss: 2.1885 - val_accuracy: 0.4310 - val_top-5-accuracy: 0.7304\n",
            "Epoch 17/100\n",
            "176/176 [==============================] - 146s 832ms/step - loss: 2.2194 - accuracy: 0.4164 - top-5-accuracy: 0.7308 - val_loss: 2.1717 - val_accuracy: 0.4406 - val_top-5-accuracy: 0.7366\n",
            "Epoch 18/100\n",
            "176/176 [==============================] - 146s 832ms/step - loss: 2.1642 - accuracy: 0.4275 - top-5-accuracy: 0.7408 - val_loss: 2.1124 - val_accuracy: 0.4466 - val_top-5-accuracy: 0.7472\n",
            "Epoch 19/100\n",
            "176/176 [==============================] - 146s 832ms/step - loss: 2.1136 - accuracy: 0.4362 - top-5-accuracy: 0.7531 - val_loss: 2.1042 - val_accuracy: 0.4552 - val_top-5-accuracy: 0.7496\n",
            "Epoch 20/100\n",
            "176/176 [==============================] - 146s 831ms/step - loss: 2.0420 - accuracy: 0.4534 - top-5-accuracy: 0.7680 - val_loss: 2.0730 - val_accuracy: 0.4614 - val_top-5-accuracy: 0.7512\n",
            "Epoch 21/100\n",
            "176/176 [==============================] - 146s 831ms/step - loss: 1.9970 - accuracy: 0.4632 - top-5-accuracy: 0.7760 - val_loss: 1.9990 - val_accuracy: 0.4794 - val_top-5-accuracy: 0.7676\n",
            "Epoch 22/100\n",
            "176/176 [==============================] - 146s 831ms/step - loss: 1.9471 - accuracy: 0.4739 - top-5-accuracy: 0.7858 - val_loss: 1.9830 - val_accuracy: 0.4788 - val_top-5-accuracy: 0.7664\n",
            "Epoch 23/100\n",
            "176/176 [==============================] - 146s 832ms/step - loss: 1.9055 - accuracy: 0.4860 - top-5-accuracy: 0.7910 - val_loss: 1.9957 - val_accuracy: 0.4806 - val_top-5-accuracy: 0.7632\n",
            "Epoch 24/100\n",
            "176/176 [==============================] - 147s 833ms/step - loss: 1.8596 - accuracy: 0.4962 - top-5-accuracy: 0.7998 - val_loss: 1.9852 - val_accuracy: 0.4812 - val_top-5-accuracy: 0.7678\n",
            "Epoch 25/100\n",
            "176/176 [==============================] - 146s 832ms/step - loss: 1.8167 - accuracy: 0.5048 - top-5-accuracy: 0.8072 - val_loss: 1.9618 - val_accuracy: 0.4866 - val_top-5-accuracy: 0.7748\n",
            "Epoch 26/100\n",
            "176/176 [==============================] - 146s 832ms/step - loss: 1.7682 - accuracy: 0.5151 - top-5-accuracy: 0.8184 - val_loss: 1.9747 - val_accuracy: 0.4846 - val_top-5-accuracy: 0.7746\n",
            "Epoch 27/100\n",
            "176/176 [==============================] - 147s 834ms/step - loss: 1.7381 - accuracy: 0.5194 - top-5-accuracy: 0.8237 - val_loss: 1.9347 - val_accuracy: 0.4896 - val_top-5-accuracy: 0.7802\n",
            "Epoch 28/100\n",
            "176/176 [==============================] - 147s 835ms/step - loss: 1.7031 - accuracy: 0.5310 - top-5-accuracy: 0.8309 - val_loss: 1.9559 - val_accuracy: 0.4894 - val_top-5-accuracy: 0.7764\n",
            "Epoch 29/100\n",
            "176/176 [==============================] - 147s 835ms/step - loss: 1.6739 - accuracy: 0.5374 - top-5-accuracy: 0.8358 - val_loss: 1.9218 - val_accuracy: 0.4954 - val_top-5-accuracy: 0.7844\n",
            "Epoch 30/100\n",
            "176/176 [==============================] - 147s 835ms/step - loss: 1.6329 - accuracy: 0.5482 - top-5-accuracy: 0.8415 - val_loss: 1.8878 - val_accuracy: 0.5060 - val_top-5-accuracy: 0.7898\n",
            "Epoch 31/100\n",
            "176/176 [==============================] - 147s 835ms/step - loss: 1.5930 - accuracy: 0.5556 - top-5-accuracy: 0.8467 - val_loss: 1.8711 - val_accuracy: 0.5146 - val_top-5-accuracy: 0.7928\n",
            "Epoch 32/100\n",
            "176/176 [==============================] - 147s 835ms/step - loss: 1.5745 - accuracy: 0.5614 - top-5-accuracy: 0.8528 - val_loss: 1.9136 - val_accuracy: 0.5044 - val_top-5-accuracy: 0.7774\n",
            "Epoch 33/100\n",
            "176/176 [==============================] - 147s 833ms/step - loss: 1.5325 - accuracy: 0.5680 - top-5-accuracy: 0.8563 - val_loss: 1.8764 - val_accuracy: 0.5156 - val_top-5-accuracy: 0.7948\n",
            "Epoch 34/100\n",
            "176/176 [==============================] - 146s 831ms/step - loss: 1.5114 - accuracy: 0.5739 - top-5-accuracy: 0.8634 - val_loss: 1.9012 - val_accuracy: 0.5072 - val_top-5-accuracy: 0.7924\n",
            "Epoch 35/100\n",
            "176/176 [==============================] - 146s 831ms/step - loss: 1.4757 - accuracy: 0.5829 - top-5-accuracy: 0.8692 - val_loss: 1.8658 - val_accuracy: 0.5108 - val_top-5-accuracy: 0.7978\n",
            "Epoch 36/100\n",
            "176/176 [==============================] - 146s 831ms/step - loss: 1.4522 - accuracy: 0.5908 - top-5-accuracy: 0.8722 - val_loss: 1.8468 - val_accuracy: 0.5204 - val_top-5-accuracy: 0.7956\n",
            "Epoch 37/100\n",
            "176/176 [==============================] - 146s 832ms/step - loss: 1.4164 - accuracy: 0.5983 - top-5-accuracy: 0.8774 - val_loss: 1.8524 - val_accuracy: 0.5238 - val_top-5-accuracy: 0.7962\n",
            "Epoch 38/100\n",
            "176/176 [==============================] - 146s 832ms/step - loss: 1.3906 - accuracy: 0.6039 - top-5-accuracy: 0.8830 - val_loss: 1.8505 - val_accuracy: 0.5200 - val_top-5-accuracy: 0.7968\n",
            "Epoch 39/100\n",
            "176/176 [==============================] - 146s 832ms/step - loss: 1.3769 - accuracy: 0.6102 - top-5-accuracy: 0.8829 - val_loss: 1.8457 - val_accuracy: 0.5136 - val_top-5-accuracy: 0.8026\n",
            "Epoch 40/100\n",
            "176/176 [==============================] - 146s 831ms/step - loss: 1.3559 - accuracy: 0.6176 - top-5-accuracy: 0.8856 - val_loss: 1.8307 - val_accuracy: 0.5188 - val_top-5-accuracy: 0.8022\n",
            "Epoch 41/100\n",
            "176/176 [==============================] - 146s 832ms/step - loss: 1.3297 - accuracy: 0.6194 - top-5-accuracy: 0.8922 - val_loss: 1.8317 - val_accuracy: 0.5214 - val_top-5-accuracy: 0.8006\n",
            "Epoch 42/100\n",
            "176/176 [==============================] - 146s 831ms/step - loss: 1.2934 - accuracy: 0.6274 - top-5-accuracy: 0.8964 - val_loss: 1.8523 - val_accuracy: 0.5206 - val_top-5-accuracy: 0.8004\n",
            "Epoch 43/100\n",
            "176/176 [==============================] - 146s 831ms/step - loss: 1.2864 - accuracy: 0.6288 - top-5-accuracy: 0.8983 - val_loss: 1.8275 - val_accuracy: 0.5276 - val_top-5-accuracy: 0.8028\n",
            "Epoch 44/100\n",
            "176/176 [==============================] - 146s 832ms/step - loss: 1.2687 - accuracy: 0.6346 - top-5-accuracy: 0.8989 - val_loss: 1.8494 - val_accuracy: 0.5228 - val_top-5-accuracy: 0.8008\n",
            "Epoch 45/100\n",
            "176/176 [==============================] - 146s 832ms/step - loss: 1.2431 - accuracy: 0.6436 - top-5-accuracy: 0.9025 - val_loss: 1.8315 - val_accuracy: 0.5318 - val_top-5-accuracy: 0.8070\n",
            "Epoch 46/100\n",
            "176/176 [==============================] - 146s 832ms/step - loss: 1.2286 - accuracy: 0.6466 - top-5-accuracy: 0.9055 - val_loss: 1.8739 - val_accuracy: 0.5208 - val_top-5-accuracy: 0.7948\n",
            "Epoch 47/100\n",
            "176/176 [==============================] - 146s 832ms/step - loss: 1.2076 - accuracy: 0.6508 - top-5-accuracy: 0.9107 - val_loss: 1.8495 - val_accuracy: 0.5296 - val_top-5-accuracy: 0.8004\n",
            "Epoch 48/100\n",
            "176/176 [==============================] - 146s 831ms/step - loss: 1.1900 - accuracy: 0.6568 - top-5-accuracy: 0.9096 - val_loss: 1.8359 - val_accuracy: 0.5334 - val_top-5-accuracy: 0.8132\n",
            "Epoch 49/100\n",
            "176/176 [==============================] - 147s 833ms/step - loss: 1.1680 - accuracy: 0.6597 - top-5-accuracy: 0.9148 - val_loss: 1.8603 - val_accuracy: 0.5270 - val_top-5-accuracy: 0.8038\n",
            "Epoch 50/100\n",
            "176/176 [==============================] - 147s 835ms/step - loss: 1.1485 - accuracy: 0.6655 - top-5-accuracy: 0.9179 - val_loss: 1.9058 - val_accuracy: 0.5178 - val_top-5-accuracy: 0.8014\n",
            "Epoch 51/100\n",
            "176/176 [==============================] - 147s 835ms/step - loss: 1.1406 - accuracy: 0.6688 - top-5-accuracy: 0.9176 - val_loss: 1.7942 - val_accuracy: 0.5356 - val_top-5-accuracy: 0.8118\n",
            "Epoch 52/100\n",
            "176/176 [==============================] - 147s 835ms/step - loss: 1.1170 - accuracy: 0.6723 - top-5-accuracy: 0.9230 - val_loss: 1.8309 - val_accuracy: 0.5382 - val_top-5-accuracy: 0.8108\n",
            "Epoch 53/100\n",
            "176/176 [==============================] - 148s 839ms/step - loss: 1.1210 - accuracy: 0.6711 - top-5-accuracy: 0.9210 - val_loss: 1.8403 - val_accuracy: 0.5318 - val_top-5-accuracy: 0.8074\n",
            "Epoch 54/100\n",
            "176/176 [==============================] - 148s 839ms/step - loss: 1.1007 - accuracy: 0.6764 - top-5-accuracy: 0.9246 - val_loss: 1.8505 - val_accuracy: 0.5358 - val_top-5-accuracy: 0.8056\n",
            "Epoch 55/100\n",
            "176/176 [==============================] - 148s 839ms/step - loss: 1.0817 - accuracy: 0.6829 - top-5-accuracy: 0.9264 - val_loss: 1.8369 - val_accuracy: 0.5400 - val_top-5-accuracy: 0.8056\n",
            "Epoch 56/100\n",
            "176/176 [==============================] - 148s 839ms/step - loss: 1.0726 - accuracy: 0.6862 - top-5-accuracy: 0.9285 - val_loss: 1.8078 - val_accuracy: 0.5378 - val_top-5-accuracy: 0.8138\n",
            "Epoch 57/100\n",
            "176/176 [==============================] - 148s 839ms/step - loss: 1.0661 - accuracy: 0.6877 - top-5-accuracy: 0.9296 - val_loss: 1.8292 - val_accuracy: 0.5426 - val_top-5-accuracy: 0.8176\n",
            "Epoch 58/100\n",
            "176/176 [==============================] - 148s 839ms/step - loss: 1.0404 - accuracy: 0.6927 - top-5-accuracy: 0.9329 - val_loss: 1.8606 - val_accuracy: 0.5298 - val_top-5-accuracy: 0.8088\n",
            "Epoch 59/100\n",
            "176/176 [==============================] - 148s 839ms/step - loss: 1.0321 - accuracy: 0.6961 - top-5-accuracy: 0.9322 - val_loss: 1.8397 - val_accuracy: 0.5374 - val_top-5-accuracy: 0.8100\n",
            "Epoch 60/100\n",
            "176/176 [==============================] - 148s 839ms/step - loss: 1.0278 - accuracy: 0.6968 - top-5-accuracy: 0.9353 - val_loss: 1.8439 - val_accuracy: 0.5408 - val_top-5-accuracy: 0.8126\n",
            "Epoch 61/100\n",
            "176/176 [==============================] - 148s 839ms/step - loss: 1.0043 - accuracy: 0.7041 - top-5-accuracy: 0.9357 - val_loss: 1.8713 - val_accuracy: 0.5386 - val_top-5-accuracy: 0.8076\n",
            "Epoch 62/100\n",
            "176/176 [==============================] - 148s 839ms/step - loss: 0.9962 - accuracy: 0.7062 - top-5-accuracy: 0.9359 - val_loss: 1.8485 - val_accuracy: 0.5438 - val_top-5-accuracy: 0.8146\n",
            "Epoch 63/100\n",
            "176/176 [==============================] - 148s 840ms/step - loss: 0.9942 - accuracy: 0.7066 - top-5-accuracy: 0.9375 - val_loss: 1.8629 - val_accuracy: 0.5412 - val_top-5-accuracy: 0.8110\n",
            "Epoch 64/100\n",
            "176/176 [==============================] - 148s 839ms/step - loss: 0.9817 - accuracy: 0.7096 - top-5-accuracy: 0.9409 - val_loss: 1.8911 - val_accuracy: 0.5314 - val_top-5-accuracy: 0.8050\n",
            "Epoch 65/100\n",
            "176/176 [==============================] - 148s 839ms/step - loss: 0.9717 - accuracy: 0.7126 - top-5-accuracy: 0.9389 - val_loss: 1.8804 - val_accuracy: 0.5410 - val_top-5-accuracy: 0.8146\n",
            "Epoch 66/100\n",
            "176/176 [==============================] - 148s 839ms/step - loss: 0.9693 - accuracy: 0.7147 - top-5-accuracy: 0.9417 - val_loss: 1.8515 - val_accuracy: 0.5394 - val_top-5-accuracy: 0.8116\n",
            "Epoch 67/100\n",
            "176/176 [==============================] - 148s 839ms/step - loss: 0.9521 - accuracy: 0.7196 - top-5-accuracy: 0.9412 - val_loss: 1.9042 - val_accuracy: 0.5390 - val_top-5-accuracy: 0.8094\n",
            "Epoch 68/100\n",
            "176/176 [==============================] - 148s 838ms/step - loss: 0.9494 - accuracy: 0.7196 - top-5-accuracy: 0.9430 - val_loss: 1.8831 - val_accuracy: 0.5344 - val_top-5-accuracy: 0.8088\n",
            "Epoch 69/100\n",
            "176/176 [==============================] - 147s 838ms/step - loss: 0.9312 - accuracy: 0.7242 - top-5-accuracy: 0.9452 - val_loss: 1.8612 - val_accuracy: 0.5446 - val_top-5-accuracy: 0.8170\n",
            "Epoch 70/100\n",
            "176/176 [==============================] - 147s 838ms/step - loss: 0.9345 - accuracy: 0.7212 - top-5-accuracy: 0.9446 - val_loss: 1.8557 - val_accuracy: 0.5438 - val_top-5-accuracy: 0.8104\n",
            "Epoch 71/100\n",
            "176/176 [==============================] - 147s 836ms/step - loss: 0.9210 - accuracy: 0.7245 - top-5-accuracy: 0.9463 - val_loss: 1.8305 - val_accuracy: 0.5430 - val_top-5-accuracy: 0.8106\n",
            "Epoch 72/100\n",
            "176/176 [==============================] - 147s 834ms/step - loss: 0.9157 - accuracy: 0.7283 - top-5-accuracy: 0.9464 - val_loss: 1.8414 - val_accuracy: 0.5454 - val_top-5-accuracy: 0.8160\n",
            "Epoch 73/100\n",
            "176/176 [==============================] - 147s 835ms/step - loss: 0.9119 - accuracy: 0.7308 - top-5-accuracy: 0.9466 - val_loss: 1.8766 - val_accuracy: 0.5366 - val_top-5-accuracy: 0.8120\n",
            "Epoch 74/100\n",
            "176/176 [==============================] - 147s 835ms/step - loss: 0.8922 - accuracy: 0.7331 - top-5-accuracy: 0.9484 - val_loss: 1.8528 - val_accuracy: 0.5416 - val_top-5-accuracy: 0.8122\n",
            "Epoch 75/100\n",
            "176/176 [==============================] - 147s 835ms/step - loss: 0.8839 - accuracy: 0.7382 - top-5-accuracy: 0.9491 - val_loss: 1.8691 - val_accuracy: 0.5454 - val_top-5-accuracy: 0.8120\n",
            "Epoch 76/100\n",
            "176/176 [==============================] - 146s 832ms/step - loss: 0.8775 - accuracy: 0.7401 - top-5-accuracy: 0.9498 - val_loss: 1.8950 - val_accuracy: 0.5384 - val_top-5-accuracy: 0.8120\n",
            "Epoch 77/100\n",
            "176/176 [==============================] - 147s 833ms/step - loss: 0.8702 - accuracy: 0.7407 - top-5-accuracy: 0.9516 - val_loss: 1.9114 - val_accuracy: 0.5376 - val_top-5-accuracy: 0.8092\n",
            "Epoch 78/100\n",
            "176/176 [==============================] - 147s 835ms/step - loss: 0.8749 - accuracy: 0.7396 - top-5-accuracy: 0.9517 - val_loss: 1.8861 - val_accuracy: 0.5400 - val_top-5-accuracy: 0.8120\n",
            "Epoch 79/100\n",
            "176/176 [==============================] - 147s 835ms/step - loss: 0.8644 - accuracy: 0.7423 - top-5-accuracy: 0.9527 - val_loss: 1.9351 - val_accuracy: 0.5398 - val_top-5-accuracy: 0.8108\n",
            "Epoch 80/100\n",
            "176/176 [==============================] - 147s 835ms/step - loss: 0.8595 - accuracy: 0.7424 - top-5-accuracy: 0.9532 - val_loss: 1.8631 - val_accuracy: 0.5388 - val_top-5-accuracy: 0.8104\n",
            "Epoch 81/100\n",
            "176/176 [==============================] - 147s 834ms/step - loss: 0.8463 - accuracy: 0.7456 - top-5-accuracy: 0.9540 - val_loss: 1.9139 - val_accuracy: 0.5422 - val_top-5-accuracy: 0.8138\n",
            "Epoch 82/100\n",
            "176/176 [==============================] - 147s 835ms/step - loss: 0.8497 - accuracy: 0.7460 - top-5-accuracy: 0.9564 - val_loss: 1.8773 - val_accuracy: 0.5542 - val_top-5-accuracy: 0.8154\n",
            "Epoch 83/100\n",
            "176/176 [==============================] - 147s 834ms/step - loss: 0.8459 - accuracy: 0.7468 - top-5-accuracy: 0.9548 - val_loss: 1.9094 - val_accuracy: 0.5418 - val_top-5-accuracy: 0.8066\n",
            "Epoch 84/100\n",
            "176/176 [==============================] - 147s 835ms/step - loss: 0.8296 - accuracy: 0.7526 - top-5-accuracy: 0.9564 - val_loss: 1.8679 - val_accuracy: 0.5494 - val_top-5-accuracy: 0.8124\n",
            "Epoch 85/100\n",
            "176/176 [==============================] - 147s 834ms/step - loss: 0.8229 - accuracy: 0.7502 - top-5-accuracy: 0.9577 - val_loss: 1.8888 - val_accuracy: 0.5480 - val_top-5-accuracy: 0.8094\n",
            "Epoch 86/100\n",
            "176/176 [==============================] - 147s 835ms/step - loss: 0.8285 - accuracy: 0.7525 - top-5-accuracy: 0.9561 - val_loss: 1.8908 - val_accuracy: 0.5424 - val_top-5-accuracy: 0.8086\n",
            "Epoch 87/100\n",
            "176/176 [==============================] - 147s 835ms/step - loss: 0.8217 - accuracy: 0.7552 - top-5-accuracy: 0.9569 - val_loss: 1.9136 - val_accuracy: 0.5502 - val_top-5-accuracy: 0.8126\n",
            "Epoch 88/100\n",
            "176/176 [==============================] - 147s 835ms/step - loss: 0.8192 - accuracy: 0.7522 - top-5-accuracy: 0.9579 - val_loss: 1.9063 - val_accuracy: 0.5402 - val_top-5-accuracy: 0.8144\n",
            "Epoch 89/100\n",
            "176/176 [==============================] - 147s 835ms/step - loss: 0.8091 - accuracy: 0.7577 - top-5-accuracy: 0.9576 - val_loss: 1.8861 - val_accuracy: 0.5474 - val_top-5-accuracy: 0.8126\n",
            "Epoch 90/100\n",
            "176/176 [==============================] - 147s 836ms/step - loss: 0.8060 - accuracy: 0.7582 - top-5-accuracy: 0.9575 - val_loss: 1.8867 - val_accuracy: 0.5490 - val_top-5-accuracy: 0.8126\n",
            "Epoch 91/100\n",
            "176/176 [==============================] - 148s 839ms/step - loss: 0.7959 - accuracy: 0.7630 - top-5-accuracy: 0.9587 - val_loss: 1.8972 - val_accuracy: 0.5518 - val_top-5-accuracy: 0.8104\n",
            "Epoch 92/100\n",
            "176/176 [==============================] - 147s 838ms/step - loss: 0.8007 - accuracy: 0.7614 - top-5-accuracy: 0.9585 - val_loss: 1.8890 - val_accuracy: 0.5544 - val_top-5-accuracy: 0.8142\n",
            "Epoch 93/100\n",
            "176/176 [==============================] - 147s 835ms/step - loss: 0.7892 - accuracy: 0.7629 - top-5-accuracy: 0.9594 - val_loss: 1.9405 - val_accuracy: 0.5380 - val_top-5-accuracy: 0.8020\n",
            "Epoch 94/100\n",
            "176/176 [==============================] - 147s 836ms/step - loss: 0.7841 - accuracy: 0.7660 - top-5-accuracy: 0.9599 - val_loss: 1.9350 - val_accuracy: 0.5442 - val_top-5-accuracy: 0.8086\n",
            "Epoch 95/100\n",
            "176/176 [==============================] - 146s 832ms/step - loss: 0.7843 - accuracy: 0.7656 - top-5-accuracy: 0.9599 - val_loss: 1.8939 - val_accuracy: 0.5506 - val_top-5-accuracy: 0.8178\n",
            "Epoch 96/100\n",
            "176/176 [==============================] - 146s 831ms/step - loss: 0.7789 - accuracy: 0.7664 - top-5-accuracy: 0.9607 - val_loss: 1.9170 - val_accuracy: 0.5492 - val_top-5-accuracy: 0.8164\n",
            "Epoch 97/100\n",
            "176/176 [==============================] - 146s 832ms/step - loss: 0.7765 - accuracy: 0.7656 - top-5-accuracy: 0.9620 - val_loss: 1.8889 - val_accuracy: 0.5460 - val_top-5-accuracy: 0.8162\n",
            "Epoch 98/100\n",
            "176/176 [==============================] - 146s 831ms/step - loss: 0.7720 - accuracy: 0.7674 - top-5-accuracy: 0.9614 - val_loss: 1.9471 - val_accuracy: 0.5460 - val_top-5-accuracy: 0.8096\n",
            "Epoch 99/100\n",
            "176/176 [==============================] - 146s 832ms/step - loss: 0.7656 - accuracy: 0.7706 - top-5-accuracy: 0.9616 - val_loss: 1.9457 - val_accuracy: 0.5482 - val_top-5-accuracy: 0.8084\n",
            "Epoch 100/100\n",
            "176/176 [==============================] - 146s 832ms/step - loss: 0.7702 - accuracy: 0.7668 - top-5-accuracy: 0.9621 - val_loss: 1.9143 - val_accuracy: 0.5500 - val_top-5-accuracy: 0.8126\n",
            "313/313 [==============================] - 17s 55ms/step - loss: 1.8684 - accuracy: 0.5508 - top-5-accuracy: 0.8143\n",
            "Test accuracy: 55.08%\n",
            "Test top 5 accuracy: 81.43%\n"
          ]
        }
      ]
    }
  ]
}